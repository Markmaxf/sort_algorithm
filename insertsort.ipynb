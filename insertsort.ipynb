{
 "cells": [
  {
   "cell_type": "code",
   "execution_count": null,
   "metadata": {
    "collapsed": true
   },
   "outputs": [],
   "source": [
    "def insertionSort2(n, arr):\n",
    "\n",
    "    for i in range(2,n+1):\n",
    "        arrc=arr.copy()\n",
    "\n",
    "        arr[:i]=insertionSort1(i,arrc[:i])\n",
    "        print(*arr)\n",
    "\n",
    "\n",
    "def insertionSort1(n, arr1):\n",
    "    # sorted unsorted array(only last element violate)\n",
    "    iv=arr1[-1]\n",
    "    arrc=arr1.copy()\n",
    "    for i in range(n-1,-1,-1):\n",
    "        \n",
    "        if arr1[i-1]>iv:\n",
    "            arr1[i]=arrc[i-1]\n",
    "        else:\n",
    "            arr1[i]=iv\n",
    "            break\n",
    "    return arr1\n"
   ]
  }
 ],
 "metadata": {
  "kernelspec": {
   "display_name": "Python 3",
   "language": "python",
   "name": "python3"
  },
  "language_info": {
   "codemirror_mode": {
    "name": "ipython",
    "version": 3
   },
   "file_extension": ".py",
   "mimetype": "text/x-python",
   "name": "python",
   "nbconvert_exporter": "python",
   "pygments_lexer": "ipython3",
   "version": "3.6.1"
  }
 },
 "nbformat": 4,
 "nbformat_minor": 2
}
