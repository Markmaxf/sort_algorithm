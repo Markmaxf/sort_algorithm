{
 "cells": [
  {
   "cell_type": "code",
   "execution_count": null,
   "metadata": {
    "collapsed": true
   },
   "outputs": [],
   "source": [
    "def countingSort(arr):\n",
    "    # count sort for 0~99\n",
    "    out=[0]*100\n",
    "    for i in arr:\n",
    "        out[i]+=1\n",
    "    for i in range(100):\n",
    "        output=[]\n",
    "        if out[i]!=0:\n",
    "            output+=[i]*out[i]\n",
    "    return output"
   ]
  }
 ],
 "metadata": {
  "kernelspec": {
   "display_name": "Python 3",
   "language": "python",
   "name": "python3"
  },
  "language_info": {
   "codemirror_mode": {
    "name": "ipython",
    "version": 3
   },
   "file_extension": ".py",
   "mimetype": "text/x-python",
   "name": "python",
   "nbconvert_exporter": "python",
   "pygments_lexer": "ipython3",
   "version": "3.6.1"
  }
 },
 "nbformat": 4,
 "nbformat_minor": 2
}
